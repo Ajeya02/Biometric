{
 "cells": [
  {
   "cell_type": "code",
   "execution_count": 1,
   "metadata": {},
   "outputs": [
    {
     "data": {
      "text/plain": [
       "\"\\nimport os\\nimport numpy as np\\nimport tensorflow as tf\\nfrom tensorflow.keras.preprocessing.image import load_img, img_to_array\\n\\nclass VideoFrameGenerator(tf.keras.utils.Sequence):\\n    def __init__(self, directory, batch_size, n_frames, input_shape, shuffle=True, rescale=1./255):\\n        self.directory = directory\\n        self.batch_size = batch_size\\n        self.n_frames = n_frames\\n        self.input_shape = input_shape\\n        self.shuffle = shuffle\\n        self.rescale = rescale\\n        self.video_labels = {'FAKE': 0, 'REAL': 1}\\n        self.videos, self.labels = self._load_video_paths()\\n        self.on_epoch_end()\\n\\n    def __len__(self):\\n        return int(np.floor(len(self.videos) / self.batch_size))\\n\\n    def __getitem__(self, index):\\n        indexes = self.indexes[index*self.batch_size:(index+1)*self.batch_size]\\n        videos_temp = [self.videos[k] for k in indexes]\\n        X, y = self._generate_data(videos_temp)\\n        return X, y\\n\\n    def on_epoch_end(self):\\n        self.indexes = np.arange(len(self.videos))\\n        if self.shuffle:\\n            np.random.shuffle(self.indexes)\\n\\n    def _load_video_paths(self):\\n        videos = []\\n        labels = []\\n        for label in ['FAKE', 'REAL']:\\n            videos_dir = os.path.join(self.directory, label)\\n            for video in os.listdir(videos_dir):\\n                video_dir = os.path.join(videos_dir, video)\\n                if os.path.isdir(video_dir):\\n                    videos.append(video_dir)\\n                    labels.append(self.video_labels[label])\\n        return videos, labels\\n\\n    def _generate_data(self, videos_temp):\\n        X = np.empty((self.batch_size, self.n_frames, *self.input_shape))\\n        y = np.empty((self.batch_size), dtype=int)\\n\\n        for i, video_dir in enumerate(videos_temp):\\n            frames = sorted(os.listdir(video_dir))[:self.n_frames]\\n            X[i,] = np.array([self._process_frame(os.path.join(video_dir, frame)) for frame in frames])\\n            y[i] = self.labels[self.videos.index(video_dir)]\\n\\n        return X, y\\n\\n    def _process_frame(self, frame_path):\\n        frame = load_img(frame_path, target_size=self.input_shape[:2])\\n        frame = img_to_array(frame)\\n        frame = frame * self.rescale\\n        return frame\\n\\n    def calculate_samples_per_video(self):\\n        samples_per_video = {}\\n        for video_dir in self.videos:\\n            total_frames = len(os.listdir(video_dir))\\n            samples = total_frames // self.n_frames\\n            samples_per_video[os.path.basename(video_dir)] = samples\\n        return samples_per_video\\n\\n# Example usage:\\ntrain_directory = '../biometric_project/data/3DCNN_input/train/'\\nval_directory = '../biometric_project/data/3DCNN_input/val/'\\n\\nbatch_size = 1\\nn_frames = 300  # Number of frames to take from each video\\ninput_shape = (224, 224, 3)  # Shape expected by your 3D CNN model\\n\\ntrain_generator = VideoFrameGenerator(train_directory, batch_size, n_frames, input_shape=input_shape)\\nval_generator = VideoFrameGenerator(val_directory, batch_size, n_frames, input_shape=input_shape)\\n\""
      ]
     },
     "execution_count": 1,
     "metadata": {},
     "output_type": "execute_result"
    }
   ],
   "source": [
    "'''\n",
    "import os\n",
    "import numpy as np\n",
    "import tensorflow as tf\n",
    "from tensorflow.keras.preprocessing.image import load_img, img_to_array\n",
    "\n",
    "class VideoFrameGenerator(tf.keras.utils.Sequence):\n",
    "    def __init__(self, directory, batch_size, n_frames, input_shape, shuffle=True, rescale=1./255):\n",
    "        self.directory = directory\n",
    "        self.batch_size = batch_size\n",
    "        self.n_frames = n_frames\n",
    "        self.input_shape = input_shape\n",
    "        self.shuffle = shuffle\n",
    "        self.rescale = rescale\n",
    "        self.video_labels = {'FAKE': 0, 'REAL': 1}\n",
    "        self.videos, self.labels = self._load_video_paths()\n",
    "        self.on_epoch_end()\n",
    "\n",
    "    def __len__(self):\n",
    "        return int(np.floor(len(self.videos) / self.batch_size))\n",
    "\n",
    "    def __getitem__(self, index):\n",
    "        indexes = self.indexes[index*self.batch_size:(index+1)*self.batch_size]\n",
    "        videos_temp = [self.videos[k] for k in indexes]\n",
    "        X, y = self._generate_data(videos_temp)\n",
    "        return X, y\n",
    "\n",
    "    def on_epoch_end(self):\n",
    "        self.indexes = np.arange(len(self.videos))\n",
    "        if self.shuffle:\n",
    "            np.random.shuffle(self.indexes)\n",
    "\n",
    "    def _load_video_paths(self):\n",
    "        videos = []\n",
    "        labels = []\n",
    "        for label in ['FAKE', 'REAL']:\n",
    "            videos_dir = os.path.join(self.directory, label)\n",
    "            for video in os.listdir(videos_dir):\n",
    "                video_dir = os.path.join(videos_dir, video)\n",
    "                if os.path.isdir(video_dir):\n",
    "                    videos.append(video_dir)\n",
    "                    labels.append(self.video_labels[label])\n",
    "        return videos, labels\n",
    "\n",
    "    def _generate_data(self, videos_temp):\n",
    "        X = np.empty((self.batch_size, self.n_frames, *self.input_shape))\n",
    "        y = np.empty((self.batch_size), dtype=int)\n",
    "\n",
    "        for i, video_dir in enumerate(videos_temp):\n",
    "            frames = sorted(os.listdir(video_dir))[:self.n_frames]\n",
    "            X[i,] = np.array([self._process_frame(os.path.join(video_dir, frame)) for frame in frames])\n",
    "            y[i] = self.labels[self.videos.index(video_dir)]\n",
    "\n",
    "        return X, y\n",
    "\n",
    "    def _process_frame(self, frame_path):\n",
    "        frame = load_img(frame_path, target_size=self.input_shape[:2])\n",
    "        frame = img_to_array(frame)\n",
    "        frame = frame * self.rescale\n",
    "        return frame\n",
    "\n",
    "    def calculate_samples_per_video(self):\n",
    "        samples_per_video = {}\n",
    "        for video_dir in self.videos:\n",
    "            total_frames = len(os.listdir(video_dir))\n",
    "            samples = total_frames // self.n_frames\n",
    "            samples_per_video[os.path.basename(video_dir)] = samples\n",
    "        return samples_per_video\n",
    "\n",
    "# Example usage:\n",
    "train_directory = '../biometric_project/data/3DCNN_input/train/'\n",
    "val_directory = '../biometric_project/data/3DCNN_input/val/'\n",
    "\n",
    "batch_size = 1\n",
    "n_frames = 300  # Number of frames to take from each video\n",
    "input_shape = (224, 224, 3)  # Shape expected by your 3D CNN model\n",
    "\n",
    "train_generator = VideoFrameGenerator(train_directory, batch_size, n_frames, input_shape=input_shape)\n",
    "val_generator = VideoFrameGenerator(val_directory, batch_size, n_frames, input_shape=input_shape)\n",
    "'''"
   ]
  },
  {
   "cell_type": "code",
   "execution_count": 2,
   "metadata": {},
   "outputs": [],
   "source": [
    "\n",
    "import os\n",
    "import numpy as np\n",
    "import tensorflow as tf\n",
    "from tensorflow.keras.preprocessing.image import load_img, img_to_array\n",
    "\n",
    "class VideoFrameGenerator(tf.keras.utils.Sequence):\n",
    "    def __init__(self, directory, batch_size, n_frames, input_shape, shuffle=True, rescale=1./255):\n",
    "        self.directory = directory\n",
    "        self.batch_size = batch_size\n",
    "        self.n_frames = n_frames\n",
    "        self.input_shape = input_shape\n",
    "        self.shuffle = shuffle\n",
    "        self.rescale = rescale\n",
    "        self.video_labels = {'FAKE': 0, 'REAL': 1}\n",
    "        self.samples, self.labels = self._load_samples_and_labels()\n",
    "        self.on_epoch_end()\n",
    "\n",
    "    def _load_samples_and_labels(self):\n",
    "        samples = []\n",
    "        labels = []\n",
    "        self.videos = []  # Initialize the videos attribute\n",
    "        for label in ['FAKE', 'REAL']:\n",
    "            videos_dir = os.path.join(self.directory, label)\n",
    "            for video in os.listdir(videos_dir):\n",
    "                video_dir = os.path.join(videos_dir, video)\n",
    "                if os.path.isdir(video_dir):\n",
    "                    self.videos.append(video_dir)  # Append the video directory\n",
    "                    num_frames = len(os.listdir(video_dir))\n",
    "                    num_samples = num_frames // self.n_frames\n",
    "                    for i in range(num_samples):\n",
    "                        start_frame = i * self.n_frames\n",
    "                        samples.append((video_dir, start_frame))\n",
    "                        labels.append(self.video_labels[label])\n",
    "        return samples, labels\n",
    "    \n",
    "    def __len__(self):\n",
    "        return int(np.ceil(len(self.samples) / self.batch_size))\n",
    "\n",
    "    def __getitem__(self, index):\n",
    "        batch_samples = self.samples[index * self.batch_size:(index + 1) * self.batch_size]\n",
    "        X = np.empty((self.batch_size, self.n_frames, *self.input_shape))\n",
    "        y = np.empty((self.batch_size), dtype=int)\n",
    "\n",
    "        for i, (video_dir, start_frame) in enumerate(batch_samples):\n",
    "            frames = sorted(os.listdir(video_dir))[start_frame:start_frame + self.n_frames]\n",
    "            X[i,] = np.array([self._process_frame(os.path.join(video_dir, frame)) for frame in frames])\n",
    "            y[i] = self.labels[index * self.batch_size + i]\n",
    "\n",
    "        return X, y\n",
    "\n",
    "    def _process_frame(self, frame_path):\n",
    "        frame = load_img(frame_path, target_size=self.input_shape[:2])\n",
    "        frame = img_to_array(frame)\n",
    "        frame = frame * self.rescale\n",
    "        return frame\n",
    "\n",
    "    def on_epoch_end(self):\n",
    "        self.indexes = np.arange(len(self.samples))\n",
    "        if self.shuffle:\n",
    "            np.random.shuffle(self.indexes)\n",
    "            self.samples = [self.samples[i] for i in self.indexes]\n",
    "            self.labels = [self.labels[i] for i in self.indexes]\n",
    "            \n",
    "    def calculate_samples_per_video(self):\n",
    "        samples_per_video = {}\n",
    "        for video_dir in self.videos:\n",
    "            total_frames = len(os.listdir(video_dir))\n",
    "            samples = total_frames // self.n_frames\n",
    "            samples_per_video[os.path.basename(video_dir)] = samples\n",
    "        return samples_per_video\n",
    "\n",
    "# Usage remains the same\n",
    "train_directory = '../biometric_project/data/3DCNN_input/train/'\n",
    "val_directory = '../biometric_project/data/3DCNN_input/val/'\n",
    "\n",
    "batch_size = 10\n",
    "n_frames = 30  # Number of frames to take from each video\n",
    "input_shape = (224, 224, 3)  # Shape expected by your 3D CNN model\n",
    "\n",
    "train_generator = VideoFrameGenerator(train_directory, batch_size, n_frames, input_shape=input_shape)\n",
    "val_generator = VideoFrameGenerator(val_directory, batch_size, n_frames, input_shape=input_shape)\n",
    "\n"
   ]
  },
  {
   "cell_type": "code",
   "execution_count": 3,
   "metadata": {},
   "outputs": [
    {
     "name": "stdout",
     "output_type": "stream",
     "text": [
      "{'aagfhgtpmv': 10, 'abqwwspghj': 10, 'acifjvzvpm': 10, 'aelzhcnwgf': 10, 'aknmpoonls': 10, 'akvmwkdyuv': 10, 'akxoopqjqz': 10, 'akzbnazxtz': 10, 'aladcziidp': 10, 'alaijyygdv': 10, 'alninxcyhg': 10, 'altziddtxi': 10, 'alvgwypubw': 10, 'amaivqofda': 10, 'amowujxmzc': 10, 'aneclqfpbt': 10, 'apgjqzkoma': 10, 'apogckdfrz': 10, 'aqpnvjhuzw': 10, 'arkroixhey': 10, 'arlmiizoob': 10, 'arrhsnjqku': 10, 'asdpeebotb': 10, 'aslsvlvpth': 10, 'asvcrfdpnq': 10, 'atxvxouljq': 10, 'atyntldecu': 10, 'atzdznmder': 10, 'aufmsmnoye': 10, 'avfitoutyn': 10, 'avgiuextiz': 10, 'avnqydkqjj': 10, 'avssvvsdhz': 10, 'avywawptfc': 10, 'awhmfnnjih': 10, 'awnwkrqibf': 10, 'awukslzjra': 10, 'azsmewqghg': 10, 'bahdpoesir': 10, 'bbhtdfuqxq': 10, 'bchnbulevv': 10, 'abarnvbtwb': 10, 'aelfnikyqj': 10, 'afoovlsmtx': 10, 'anpuvshzoo': 10, 'asaxgevnnp': 10, 'atkdltyyen': 10, 'avmjormvsx': 10, 'axntxmycwd': 10, 'aybgughjxh': 10, 'aybumesmpk': 10, 'bmjzrlszhi': 10, 'bpapbctoao': 10, 'bulkxhhknf': 10, 'bwhlgysghg': 10, 'bwipwzzxxu': 10, 'bxzakyopjf': 10, 'bzythlfnhq': 10, 'ccfoszqabv': 10, 'cfxkpiweqt': 10, 'chtapglbcj': 10, 'cizlkenljw': 10, 'ckjaibzfxa': 10, 'clrycekyst': 10, 'cmbzllswnl': 10, 'cobjrlugvp': 10, 'cpjxareypw': 10, 'cppdvdejkc': 10, 'cprhtltsjp': 10, 'crezycjqyk': 10, 'cyxlcuyznd': 10, 'dakiztgtnw': 10, 'dbnygxtwek': 10, 'dbtbbhakdv': 10, 'ddepeddixj': 10, 'djxdyjopjd': 10, 'dkuayagnmc': 10, 'dkzvdrzcnr': 10, 'dlpoieqvfb': 10, 'drcyabprvt': 10, 'dsjbknkujw': 10, 'duycddgtrl': 10, 'dzyuwjkjui': 10, 'eckvhdusax': 10, 'ecujsjhscd': 10, 'ehtdtkmmli': 10}\n"
     ]
    }
   ],
   "source": [
    "samples_per_video = train_generator.calculate_samples_per_video()\n",
    "print(samples_per_video)"
   ]
  },
  {
   "cell_type": "code",
   "execution_count": 4,
   "metadata": {},
   "outputs": [
    {
     "name": "stdout",
     "output_type": "stream",
     "text": [
      "{'acqfdwsrhi': 10, 'acxnxvbsxk': 10, 'acxwigylke': 10, 'aczrgyricp': 10, 'adohikbdaz': 10, 'adylbeequz': 10, 'aettqgevhz': 10, 'aevrfsexku': 10, 'agdkmztvby': 10, 'agqphdxmwt': 10, 'ahbweevwpv': 10, 'ahdbuwqxit': 10, 'ahfazfbntc': 10, 'aipfdnwpoo': 10, 'ajwpjhrbcv': 10, 'aklqzsddfl': 10, 'aknbdpmgua': 10, 'axczxisdtb': 10, 'axoygtekut': 10, 'ayqvfdhslr': 10, 'azpuxunqyo': 10, 'ahqqqilsxt': 10, 'ajqslcypsw': 10, 'aytzyidmgs': 10, 'bddjdhzfze': 10, 'bdnaqemxmr': 10, 'beboztfcme': 10, 'bejhvclboh': 10, 'beyebyhrph': 10, 'bffwsjxghk': 10, 'bgvhtpzknn': 10, 'bgwmmujlmc': 10, 'bilnggbxgu': 10, 'efwfxwwlbw': 10, 'egghxjjmfg': 10, 'ekcrtigpab': 10, 'ellavthztb': 10, 'eqnoqyfquo': 10, 'erlvuvjsjf': 10}\n"
     ]
    }
   ],
   "source": [
    "samples_per_video = val_generator.calculate_samples_per_video()\n",
    "print(samples_per_video)"
   ]
  },
  {
   "cell_type": "code",
   "execution_count": 5,
   "metadata": {},
   "outputs": [
    {
     "name": "stdout",
     "output_type": "stream",
     "text": [
      "86\n",
      "39\n"
     ]
    }
   ],
   "source": [
    "print(len(train_generator))\n",
    "print(len(val_generator))"
   ]
  },
  {
   "cell_type": "code",
   "execution_count": 6,
   "metadata": {},
   "outputs": [
    {
     "name": "stdout",
     "output_type": "stream",
     "text": [
      "Total number of videos: 86\n",
      "Batch size: 10\n",
      "Length of generator (number of batches): 86\n"
     ]
    }
   ],
   "source": [
    "print(\"Total number of videos:\", len(train_generator.videos))\n",
    "print(\"Batch size:\", train_generator.batch_size)\n",
    "print(\"Length of generator (number of batches):\", len(train_generator))\n"
   ]
  },
  {
   "cell_type": "code",
   "execution_count": 7,
   "metadata": {},
   "outputs": [
    {
     "name": "stdout",
     "output_type": "stream",
     "text": [
      "Total number of videos: 39\n",
      "Batch size: 10\n",
      "Length of generator (number of batches): 39\n"
     ]
    }
   ],
   "source": [
    "print(\"Total number of videos:\", len(val_generator.videos))\n",
    "print(\"Batch size:\", val_generator.batch_size)\n",
    "print(\"Length of generator (number of batches):\", len(val_generator))"
   ]
  },
  {
   "cell_type": "code",
   "execution_count": 8,
   "metadata": {},
   "outputs": [
    {
     "data": {
      "text/plain": [
       "'\\n# Retrieve the first batch\\nfor i in range(0,len(train_generator)):\\n    X_batch, y_batch = train_generator[i]\\n    print(y_batch)\\n\\n\\n# Print the shapes\\nprint(\"Shape of X (features):\", X_batch.shape)\\nprint(\"Shape of y (labels):\", y_batch.shape)\\n\\nimport matplotlib.pyplot as plt\\nplt.imshow(X_batch[0][0])\\n\\nprint(y_batch)\\n'"
      ]
     },
     "execution_count": 8,
     "metadata": {},
     "output_type": "execute_result"
    }
   ],
   "source": [
    "'''\n",
    "# Retrieve the first batch\n",
    "for i in range(0,len(train_generator)):\n",
    "    X_batch, y_batch = train_generator[i]\n",
    "    print(y_batch)\n",
    "\n",
    "\n",
    "# Print the shapes\n",
    "print(\"Shape of X (features):\", X_batch.shape)\n",
    "print(\"Shape of y (labels):\", y_batch.shape)\n",
    "\n",
    "import matplotlib.pyplot as plt\n",
    "plt.imshow(X_batch[0][0])\n",
    "\n",
    "print(y_batch)\n",
    "'''"
   ]
  },
  {
   "cell_type": "code",
   "execution_count": 9,
   "metadata": {},
   "outputs": [
    {
     "name": "stdout",
     "output_type": "stream",
     "text": [
      "Shape of X (features): (10, 30, 224, 224, 3)\n",
      "Shape of y (labels): (10,)\n",
      "[1 1 1 0 1 0 0 1 1 1]\n"
     ]
    },
    {
     "data": {
      "image/png": "[encoded data removed]",
      "text/plain": [
       "<Figure size 432x288 with 1 Axes>"
      ]
     },
     "metadata": {
      "needs_background": "light"
     },
     "output_type": "display_data"
    }
   ],
   "source": [
    "X_batch, y_batch = train_generator[7]\n",
    "\n",
    "print(\"Shape of X (features):\", X_batch.shape)\n",
    "print(\"Shape of y (labels):\", y_batch.shape)\n",
    "\n",
    "import matplotlib.pyplot as plt\n",
    "plt.imshow(X_batch[0][0])\n",
    "\n",
    "print(y_batch)"
   ]
  },
  {
   "cell_type": "code",
   "execution_count": 10,
   "metadata": {},
   "outputs": [
    {
     "data": {
      "text/plain": [
       "'\\nAUTOTUNE = tf.data.experimental.AUTOTUNE\\n\\n# Create TensorFlow datasets\\ntrain_ds = tf.data.Dataset.from_generator(\\n    lambda: train_generator,\\n    output_types=(tf.float32, tf.int32),\\n    output_shapes=([None, train_generator.n_frames, *train_generator.input_shape], [None])\\n)\\n\\nval_ds = tf.data.Dataset.from_generator(\\n    lambda: val_generator,\\n    output_types=(tf.float32, tf.int32),\\n    output_shapes=([None, val_generator.n_frames, *val_generator.input_shape], [None])\\n)\\n\\n# Apply cache and prefetch\\ntrain_ds = train_ds.cache().prefetch(buffer_size=AUTOTUNE)\\nval_ds = val_ds.cache().prefetch(buffer_size=AUTOTUNE)\\n'"
      ]
     },
     "execution_count": 10,
     "metadata": {},
     "output_type": "execute_result"
    }
   ],
   "source": [
    "'''\n",
    "AUTOTUNE = tf.data.experimental.AUTOTUNE\n",
    "\n",
    "# Create TensorFlow datasets\n",
    "train_ds = tf.data.Dataset.from_generator(\n",
    "    lambda: train_generator,\n",
    "    output_types=(tf.float32, tf.int32),\n",
    "    output_shapes=([None, train_generator.n_frames, *train_generator.input_shape], [None])\n",
    ")\n",
    "\n",
    "val_ds = tf.data.Dataset.from_generator(\n",
    "    lambda: val_generator,\n",
    "    output_types=(tf.float32, tf.int32),\n",
    "    output_shapes=([None, val_generator.n_frames, *val_generator.input_shape], [None])\n",
    ")\n",
    "\n",
    "# Apply cache and prefetch\n",
    "train_ds = train_ds.cache().prefetch(buffer_size=AUTOTUNE)\n",
    "val_ds = val_ds.cache().prefetch(buffer_size=AUTOTUNE)\n",
    "'''\n"
   ]
  },
  {
   "cell_type": "code",
   "execution_count": 11,
   "metadata": {},
   "outputs": [],
   "source": [
    "import tensorflow as tf\n",
    "import keras\n",
    "from tensorflow.keras import layers, models\n",
    "from tensorflow.keras.models import Sequential\n",
    "from tensorflow.keras.layers import Conv3D, MaxPooling3D, Flatten, Dense, Dropout\n",
    "\n",
    "\n",
    "class Conv2Plus1D(keras.layers.Layer):\n",
    "  def __init__(self, filters, kernel_size, padding):\n",
    "    \"\"\"\n",
    "      A sequence of convolutional layers that first apply the convolution operation over the\n",
    "      spatial dimensions, and then the temporal dimension. \n",
    "    \"\"\"\n",
    "    super().__init__()\n",
    "    self.seq = keras.Sequential([  \n",
    "        # Spatial decomposition\n",
    "        layers.Conv3D(filters=filters,\n",
    "                      kernel_size=(1, kernel_size[1], kernel_size[2]),\n",
    "                      padding=padding),\n",
    "        layers.ReLU(),\n",
    "        # Temporal decomposition\n",
    "        layers.Conv3D(filters=filters, \n",
    "                      kernel_size=(kernel_size[0], 1, 1),\n",
    "                      padding=padding),\n",
    "        layers.ReLU()\n",
    "        ])\n",
    "\n",
    "  def call(self, x):\n",
    "    return self.seq(x)"
   ]
  },
  {
   "cell_type": "code",
   "execution_count": 12,
   "metadata": {},
   "outputs": [
    {
     "name": "stdout",
     "output_type": "stream",
     "text": [
      "Model: \"sequential_2\"\n",
      "_________________________________________________________________\n",
      " Layer (type)                Output Shape              Param #   \n",
      "=================================================================\n",
      " conv2_plus1d (Conv2Plus1D)  (None, 28, 222, 222, 16   1232      \n",
      "                             )                                   \n",
      "                                                                 \n",
      " max_pooling3d (MaxPooling3  (None, 28, 111, 111, 16   0         \n",
      " D)                          )                                   \n",
      "                                                                 \n",
      " conv2_plus1d_1 (Conv2Plus1  (None, 26, 109, 109, 32   7744      \n",
      " D)                          )                                   \n",
      "                                                                 \n",
      " max_pooling3d_1 (MaxPoolin  (None, 26, 54, 54, 32)    0         \n",
      " g3D)                                                            \n",
      "                                                                 \n",
      " flatten (Flatten)           (None, 2426112)           0         \n",
      "                                                                 \n",
      " dense (Dense)               (None, 32)                77635616  \n",
      "                                                                 \n",
      " dropout (Dropout)           (None, 32)                0         \n",
      "                                                                 \n",
      " dense_1 (Dense)             (None, 1)                 33        \n",
      "                                                                 \n",
      "=================================================================\n",
      "Total params: 77644625 (296.19 MB)\n",
      "Trainable params: 77644625 (296.19 MB)\n",
      "Non-trainable params: 0 (0.00 Byte)\n",
      "_________________________________________________________________\n"
     ]
    }
   ],
   "source": [
    "\n",
    "\n",
    "# Define input shape based on your data\n",
    "# Assuming input_shape = (frames, height, width, channels)\n",
    "input_shape = (30, 224, 224, 3)  # Example input shape, adjust to your data\n",
    "\n",
    "model = models.Sequential([\n",
    "\n",
    "    Conv2Plus1D(filters=16, kernel_size=(3, 3, 3), padding='valid'),\n",
    "    layers.MaxPooling3D(pool_size=(1, 2, 2)),\n",
    "\n",
    "    Conv2Plus1D(filters=32, kernel_size=(3, 3, 3), padding='valid'),\n",
    "    layers.MaxPooling3D(pool_size=(1, 2, 2)),\n",
    "\n",
    "    layers.Flatten(),\n",
    "    layers.Dense(32, activation='relu'),\n",
    "    layers.Dropout(0.5),\n",
    "    layers.Dense(1, activation='sigmoid')  \n",
    "])\n",
    "\n",
    "# The input shape is set in the model's first layer\n",
    "model.build(input_shape=(None, 30, 224, 224, 3))\n",
    "\n",
    "# Compile the model\n",
    "model.compile(loss='binary_crossentropy',  # Use 'categorical_crossentropy' for multi-class\n",
    "              optimizer='adam',\n",
    "              metrics=['accuracy'])\n",
    "\n",
    "\n",
    "model.summary()"
   ]
  },
  {
   "cell_type": "code",
   "execution_count": 13,
   "metadata": {},
   "outputs": [],
   "source": [
    "from tensorflow.keras.callbacks import ReduceLROnPlateau, ModelCheckpoint\n",
    "\n",
    "# Define the ReduceLROnPlateau callback\n",
    "reduce_lr = ReduceLROnPlateau(monitor='val_loss', factor=0.2, patience=5, min_lr=1e-6)\n",
    "\n",
    "# Define the ModelCheckpoint callback to save the best weights\n",
    "#checkpoint = ModelCheckpoint('EfficientViT.h5', monitor='val_accuracy', save_best_only=True, mode='max')\n",
    "\n",
    "checkpoint = ModelCheckpoint('3DCNN_4', monitor='val_accuracy', save_best_only=True, mode='max', save_format='tf')\n"
   ]
  },
  {
   "cell_type": "code",
   "execution_count": 14,
   "metadata": {},
   "outputs": [
    {
     "name": "stdout",
     "output_type": "stream",
     "text": [
      "Epoch 1/5\n",
      "86/86 [==============================] - ETA: 0s - loss: 1.0667 - accuracy: 0.5209 INFO:tensorflow:Assets written to: 3DCNN_4\\assets\n"
     ]
    },
    {
     "name": "stderr",
     "output_type": "stream",
     "text": [
      "INFO:tensorflow:Assets written to: 3DCNN_4\\assets\n"
     ]
    },
    {
     "name": "stdout",
     "output_type": "stream",
     "text": [
      "86/86 [==============================] - 3665s 42s/step - loss: 1.0667 - accuracy: 0.5209 - val_loss: 0.6883 - val_accuracy: 0.4667 - lr: 0.0010\n",
      "Epoch 2/5\n",
      "86/86 [==============================] - ETA: 0s - loss: 0.6910 - accuracy: 0.5174 INFO:tensorflow:Assets written to: 3DCNN_4\\assets\n"
     ]
    },
    {
     "name": "stderr",
     "output_type": "stream",
     "text": [
      "INFO:tensorflow:Assets written to: 3DCNN_4\\assets\n"
     ]
    },
    {
     "name": "stdout",
     "output_type": "stream",
     "text": [
      "86/86 [==============================] - 3561s 41s/step - loss: 0.6910 - accuracy: 0.5174 - val_loss: 0.6930 - val_accuracy: 0.5026 - lr: 0.0010\n",
      "Epoch 3/5\n",
      "86/86 [==============================] - 3551s 41s/step - loss: 0.6959 - accuracy: 0.5360 - val_loss: 0.6939 - val_accuracy: 0.4718 - lr: 0.0010\n",
      "Epoch 4/5\n",
      "86/86 [==============================] - ETA: 0s - loss: 0.6926 - accuracy: 0.5302 INFO:tensorflow:Assets written to: 3DCNN_4\\assets\n"
     ]
    },
    {
     "name": "stderr",
     "output_type": "stream",
     "text": [
      "INFO:tensorflow:Assets written to: 3DCNN_4\\assets\n"
     ]
    },
    {
     "name": "stdout",
     "output_type": "stream",
     "text": [
      "86/86 [==============================] - 3588s 42s/step - loss: 0.6926 - accuracy: 0.5302 - val_loss: 0.6910 - val_accuracy: 0.5077 - lr: 0.0010\n",
      "Epoch 5/5\n",
      "86/86 [==============================] - ETA: 0s - loss: 0.6895 - accuracy: 0.5733 INFO:tensorflow:Assets written to: 3DCNN_4\\assets\n"
     ]
    },
    {
     "name": "stderr",
     "output_type": "stream",
     "text": [
      "INFO:tensorflow:Assets written to: 3DCNN_4\\assets\n"
     ]
    },
    {
     "name": "stdout",
     "output_type": "stream",
     "text": [
      "86/86 [==============================] - 3567s 41s/step - loss: 0.6895 - accuracy: 0.5733 - val_loss: 0.6629 - val_accuracy: 0.5744 - lr: 0.0010\n"
     ]
    }
   ],
   "source": [
    "# Fit the model\n",
    "'''\n",
    "model_info = model.fit(train_ds, \n",
    "                    epochs=5, \n",
    "                    steps_per_epoch = len(train_generator),\n",
    "                    validation_data=val_ds,\n",
    "                    validation_steps =len(val_generator),\n",
    "                    callbacks=[reduce_lr, checkpoint])\n",
    "'''\n",
    "model_info = model.fit(train_generator, \n",
    "                    epochs=5, \n",
    "                    steps_per_epoch = len(train_generator),\n",
    "                    validation_data=val_generator,\n",
    "                    validation_steps =len(val_generator),\n",
    "                    callbacks=[reduce_lr, checkpoint])\n",
    "\n"
   ]
  },
  {
   "cell_type": "code",
   "execution_count": null,
   "metadata": {},
   "outputs": [],
   "source": []
  },
  {
   "cell_type": "code",
   "execution_count": 15,
   "metadata": {},
   "outputs": [
    {
     "data": {
      "image/png": "[encoded data removed]",
      "text/plain": [
       "<Figure size 432x288 with 1 Axes>"
      ]
     },
     "metadata": {
      "needs_background": "light"
     },
     "output_type": "display_data"
    },
    {
     "data": {
      "image/png": "[encoded data removed]",
      "text/plain": [
       "<Figure size 432x288 with 1 Axes>"
      ]
     },
     "metadata": {
      "needs_background": "light"
     },
     "output_type": "display_data"
    }
   ],
   "source": [
    "import matplotlib.pyplot as plt\n",
    "\n",
    "# Plot training and validation loss\n",
    "plt.plot(model_info.history['loss'])\n",
    "plt.plot(model_info.history['val_loss'])\n",
    "plt.title('Model loss')\n",
    "plt.ylabel('Loss')\n",
    "plt.xlabel('Epoch')\n",
    "plt.legend(['Train', 'Validation'], loc='upper right')\n",
    "plt.show()\n",
    "\n",
    "# Plot training and validation accuracy\n",
    "plt.plot(model_info.history['accuracy'])\n",
    "plt.plot(model_info.history['val_accuracy'])\n",
    "plt.title('Model accuracy')\n",
    "plt.ylabel('Accuracy')\n",
    "plt.xlabel('Epoch')\n",
    "plt.legend(['Train', 'Validation'], loc='lower right')\n",
    "plt.show()"
   ]
  }
 ],
 "metadata": {
  "kernelspec": {
   "display_name": "Python 3",
   "language": "python",
   "name": "python3"
  },
  "language_info": {
   "codemirror_mode": {
    "name": "ipython",
    "version": 3
   },
   "file_extension": ".py",
   "mimetype": "text/x-python",
   "name": "python",
   "nbconvert_exporter": "python",
   "pygments_lexer": "ipython3",
   "version": "3.9.4"
  }
 },
 "nbformat": 4,
 "nbformat_minor": 2
}
