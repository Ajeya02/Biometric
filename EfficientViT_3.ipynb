{
 "cells": [
  {
   "cell_type": "code",
   "execution_count": 1,
   "metadata": {},
   "outputs": [],
   "source": [
    "import numpy as np\n",
    "\n",
    "import tensorflow as tf\n",
    "\n",
    "\n",
    "from keras.models import Sequential\n",
    "from keras.layers import Conv2D,MaxPooling2D, Dense, Flatten, Dropout\n",
    "from keras.optimizers import Adam\n",
    "from keras.preprocessing.image import ImageDataGenerator\n"
   ]
  },
  {
   "cell_type": "code",
   "execution_count": 2,
   "metadata": {},
   "outputs": [
    {
     "name": "stdout",
     "output_type": "stream",
     "text": [
      "2.14.0\n"
     ]
    }
   ],
   "source": [
    "import tensorflow as tf\n",
    "\n",
    "print(tf.__version__)"
   ]
  },
  {
   "cell_type": "code",
   "execution_count": 3,
   "metadata": {},
   "outputs": [
    {
     "name": "stdout",
     "output_type": "stream",
     "text": [
      "Found 35064 images belonging to 2 classes.\n",
      "Found 13897 images belonging to 2 classes.\n"
     ]
    }
   ],
   "source": [
    "from tensorflow.keras.preprocessing.image import ImageDataGenerator\n",
    "from tensorflow.keras.applications.efficientnet import preprocess_input\n",
    "\n",
    "# Custom preprocessing function for EfficientNet\n",
    "def efficientnet_preprocessing(x):\n",
    "    # Apply EfficientNet specific preprocessing\n",
    "    x = preprocess_input(x)\n",
    "    return x\n",
    "\n",
    "# Image Data Generator for training data\n",
    "train_data_gen = ImageDataGenerator(\n",
    "    preprocessing_function=efficientnet_preprocessing, # Add custom preprocessing\n",
    "    #rescale=1./255  # Rescaling is still fine here\n",
    ")\n",
    "\n",
    "# Image Data Generator for validation data\n",
    "validation_data_gen = ImageDataGenerator(\n",
    "    preprocessing_function=efficientnet_preprocessing, # Add custom preprocessing\n",
    "    #rescale=1./255  # Rescaling is still fine here\n",
    ")\n",
    "\n",
    "# pre proceess the train images\n",
    "train_generator = train_data_gen.flow_from_directory(\n",
    "    '../biometric_project/data/data_50K_2/train/',\n",
    "    target_size=(224,224),\n",
    "    batch_size=32,\n",
    "    color_mode=\"rgb\",\n",
    "    class_mode=\"categorical\"\n",
    ")\n",
    "\n",
    "# pre process the test images\n",
    "validation_generator = validation_data_gen.flow_from_directory(\n",
    "    '../biometric_project/data/data_50K_2/val/',\n",
    "    target_size=(224,224),\n",
    "    batch_size=32,\n",
    "    color_mode=\"rgb\",\n",
    "    class_mode=\"categorical\"\n",
    ")"
   ]
  },
  {
   "cell_type": "code",
   "execution_count": 4,
   "metadata": {},
   "outputs": [
    {
     "name": "stderr",
     "output_type": "stream",
     "text": [
      "d:\\SHREY\\Others\\python3_9_4\\lib\\site-packages\\tensorflow_addons\\utils\\tfa_eol_msg.py:23: UserWarning: \n",
      "\n",
      "TensorFlow Addons (TFA) has ended development and introduction of new features.\n",
      "TFA has entered a minimal maintenance and release mode until a planned end of life in May 2024.\n",
      "Please modify downstream libraries to take dependencies from other repositories in our TensorFlow community (e.g. Keras, Keras-CV, and Keras-NLP). \n",
      "\n",
      "For more information see: https://github.com/tensorflow/addons/issues/2807 \n",
      "\n",
      "  warnings.warn(\n"
     ]
    }
   ],
   "source": [
    "import tensorflow as tf\n",
    "from tensorflow.keras import layers, models\n",
    "import tensorflow_addons as tfa\n",
    "\n",
    "class MultiHeadSelfAttention(layers.Layer):\n",
    "    def __init__(self, embed_dim, num_heads=8):\n",
    "        super(MultiHeadSelfAttention, self).__init__()\n",
    "        self.embed_dim = embed_dim\n",
    "        self.num_heads = num_heads\n",
    "        assert embed_dim % num_heads == 0, \"Embedding dimension not divisible by number of heads\"\n",
    "        self.projection_dim = embed_dim // num_heads\n",
    "        self.query_dense = layers.Dense(embed_dim)\n",
    "        self.key_dense = layers.Dense(embed_dim)\n",
    "        self.value_dense = layers.Dense(embed_dim)\n",
    "        self.combine_heads = layers.Dense(embed_dim)\n",
    "\n",
    "    def attention(self, query, key, value):\n",
    "        score = tf.matmul(query, key, transpose_b=True)\n",
    "        dim_key = tf.cast(tf.shape(key)[-1], tf.float32)\n",
    "        scaled_score = score / tf.math.sqrt(dim_key)\n",
    "        weights = tf.nn.softmax(scaled_score, axis=-1)\n",
    "        output = tf.matmul(weights, value)\n",
    "        return output, weights\n",
    "\n",
    "    def separate_heads(self, x, batch_size):\n",
    "        x = tf.reshape(x, (batch_size, -1, self.num_heads, self.projection_dim))\n",
    "        return tf.transpose(x, perm=[0, 2, 1, 3])\n",
    "\n",
    "    def call(self, inputs):\n",
    "        batch_size = tf.shape(inputs)[0]\n",
    "        query = self.query_dense(inputs)\n",
    "        key = self.key_dense(inputs)\n",
    "        value = self.value_dense(inputs)\n",
    "        query = self.separate_heads(query, batch_size)\n",
    "        key = self.separate_heads(key, batch_size)\n",
    "        value = self.separate_heads(value, batch_size)\n",
    "\n",
    "        attention, _ = self.attention(query, key, value)\n",
    "        attention = tf.transpose(attention, perm=[0, 2, 1, 3])\n",
    "        concat_attention = tf.reshape(attention, (batch_size, -1, self.embed_dim))\n",
    "        output = self.combine_heads(concat_attention)\n",
    "        return output\n",
    "\n",
    "class TransformerBlock(layers.Layer):\n",
    "    def __init__(self, embed_dim, num_heads, mlp_dim, dropout=0.1):\n",
    "        super(TransformerBlock, self).__init__()\n",
    "        self.att = MultiHeadSelfAttention(embed_dim, num_heads)\n",
    "        self.mlp = tf.keras.Sequential([\n",
    "            layers.Dense(mlp_dim, activation=tf.keras.activations.gelu),\n",
    "            layers.Dropout(dropout),\n",
    "            layers.Dense(embed_dim),\n",
    "            layers.Dropout(dropout)\n",
    "        ])\n",
    "        self.norm1 = layers.LayerNormalization(epsilon=1e-6)\n",
    "        self.norm2 = layers.LayerNormalization(epsilon=1e-6)\n",
    "        self.dropout1 = layers.Dropout(dropout)\n",
    "        self.dropout2 = layers.Dropout(dropout)\n",
    "\n",
    "    def call(self, inputs, training):\n",
    "        attn_output = self.att(inputs)\n",
    "        attn_output = self.dropout1(attn_output, training=training)\n",
    "        out1 = self.norm1(inputs + attn_output)\n",
    "        mlp_output = self.mlp(out1)\n",
    "        mlp_output = self.dropout2(mlp_output, training=training)\n",
    "        return self.norm2(out1 + mlp_output)\n",
    "\n",
    "import tensorflow as tf\n",
    "\n",
    "\n",
    "import tensorflow as tf\n",
    "from tensorflow.keras import layers\n",
    "\n",
    "class EfficientViT(tf.keras.Model):\n",
    "    def __init__(self, config):\n",
    "        super(EfficientViT, self).__init__()\n",
    "\n",
    "        self.image_size = config['image_size']\n",
    "        self.num_classes = config['num_classes']\n",
    "        self.dim = config['dim']\n",
    "        self.num_transformer_blocks = config['num_transformer_blocks']\n",
    "        self.mlp_dim = config['mlp_dim']\n",
    "        self.num_heads = config['num_heads']\n",
    "        self.patch_size = config['patch_size']\n",
    "        \n",
    "        # Define the EfficientNet as a feature extractor\n",
    "        self.efficient_net = tf.keras.applications.EfficientNetB0(\n",
    "            input_shape=[self.image_size, self.image_size, 3],\n",
    "            include_top=False,\n",
    "            weights=None\n",
    "        )\n",
    "        \n",
    "        # Get the output shape of EfficientNet\n",
    "        efficient_net_output_shape = self.efficient_net.output_shape[1:-1]\n",
    "        num_patches = efficient_net_output_shape[0] * efficient_net_output_shape[1]\n",
    "        \n",
    "        self.cls_token = self.add_weight(\"cls_token\", shape=(1, 1, self.dim))\n",
    "        self.pos_embedding = self.add_weight(\"pos_embedding\", shape=(1, num_patches + 1, self.dim))\n",
    "        \n",
    "        self.patch_projector = layers.Conv2D(self.dim, kernel_size=1, strides=1, padding='valid')\n",
    "\n",
    "        # Change: Use TransformerBlock directly instead of layers.TransformerBlock\n",
    "        self.transformer = [\n",
    "            TransformerBlock(  # <-- Change is here\n",
    "                embed_dim=self.dim,\n",
    "                num_heads=self.num_heads,\n",
    "                mlp_dim=self.mlp_dim,\n",
    "                dropout=0.1\n",
    "            ) for _ in range(self.num_transformer_blocks)\n",
    "        ]\n",
    "\n",
    "        self.head = layers.Dense(self.num_classes)\n",
    "\n",
    "    def call(self, img, training=False):\n",
    "        # Extract features with EfficientNet\n",
    "        x = self.efficient_net(img)\n",
    "        batch_size = tf.shape(x)[0]\n",
    "        \n",
    "        # Flatten and project the patches\n",
    "        x = self.patch_projector(x)\n",
    "        x = tf.reshape(x, [batch_size, -1, self.dim])\n",
    "        \n",
    "        # Add class token\n",
    "        cls_tokens = tf.broadcast_to(self.cls_token, [batch_size, 1, self.dim])\n",
    "        x = tf.concat([cls_tokens, x], axis=1)\n",
    "        x += self.pos_embedding\n",
    "        \n",
    "        # Transformer layers\n",
    "        for transformer_block in self.transformer:\n",
    "            x = transformer_block(x, training=training)\n",
    "\n",
    "        # Head\n",
    "        cls_token_final = x[:, 0]\n",
    "        x = self.head(cls_token_final)\n",
    "        return x\n"
   ]
  },
  {
   "cell_type": "code",
   "execution_count": 5,
   "metadata": {},
   "outputs": [],
   "source": [
    "# Create an instance of the EfficientViT model\n",
    "\n",
    "'''\n",
    "config = {\n",
    "        'image_size': 224,  # Image size\n",
    "        'patch_size': 16,  # Patch size\n",
    "        'num_classes': 2,  # Number of classes (e.g., real vs. fake)\n",
    "        'dim': 256,  # Embedding dimension\n",
    "        'heads': 8,  # Number of attention heads\n",
    "        'mlp_dim': 512,  # MLP hidden dimension\n",
    "        'dropout': 0.1,  # Dropout rate\n",
    "        'emb_dropout': 0.1,  # Embedding dropout rate\n",
    "        'selected_efficient_net': 0,  # Select EfficientNet variant (0 for B0, 1 for B7)\n",
    "        'depth': 12,  # Number of transformer blocks\n",
    "        'num_transformer_blocks': 4,  # Number of transformer blocks\n",
    "        'num_heads': 4, # Number of attention heads\n",
    "}\n",
    "'''\n",
    "config = {\n",
    "    'image_size': 224,  # Image size\n",
    "    'patch_size': 7,   # Patch size\n",
    "    'num_classes': 2,   # Number of classes \n",
    "    'dim': 128,         # Embedding dimension\n",
    "    'mlp_dim': 256,     # MLP hidden dimension\n",
    "    'dropout': 0.1,     # Dropout rate\n",
    "    'emb_dropout': 0.1, # Embedding dropout rate\n",
    "    'selected_efficient_net': 0,  # (0 for B0)\n",
    "    'num_transformer_blocks': 2,  # Number of transformer blocks\n",
    "    'num_heads': 2,     # Number of attention heads\n",
    "}\n",
    "\n",
    "model = EfficientViT(config)\n",
    "\n",
    "# Compile the model\n",
    "model.compile(optimizer='adam', loss='categorical_crossentropy', metrics=['accuracy'])"
   ]
  },
  {
   "cell_type": "code",
   "execution_count": 6,
   "metadata": {},
   "outputs": [
    {
     "name": "stdout",
     "output_type": "stream",
     "text": [
      "Model: \"efficient_vi_t\"\n",
      "_________________________________________________________________\n",
      " Layer (type)                Output Shape              Param #   \n",
      "=================================================================\n",
      " efficientnetb0 (Functional  (None, 7, 7, 1280)        4049571   \n",
      " )                                                               \n",
      "                                                                 \n",
      " conv2d (Conv2D)             multiple                  163968    \n",
      "                                                                 \n",
      " transformer_block (Transfo  multiple                  132480    \n",
      " rmerBlock)                                                      \n",
      "                                                                 \n",
      " transformer_block_1 (Trans  multiple                  132480    \n",
      " formerBlock)                                                    \n",
      "                                                                 \n",
      " dense_12 (Dense)            multiple                  258       \n",
      "                                                                 \n",
      "=================================================================\n",
      "Total params: 4485285 (17.11 MB)\n",
      "Trainable params: 4443262 (16.95 MB)\n",
      "Non-trainable params: 42023 (164.16 KB)\n",
      "_________________________________________________________________\n"
     ]
    }
   ],
   "source": [
    "dummy_input = tf.random.uniform((1, 224, 224, 3))  # adjust the shape as necessary\n",
    "model(dummy_input)\n",
    "model.summary()"
   ]
  },
  {
   "cell_type": "code",
   "execution_count": 7,
   "metadata": {},
   "outputs": [],
   "source": [
    "from tensorflow.keras.callbacks import ReduceLROnPlateau, ModelCheckpoint\n",
    "\n",
    "# Define the ReduceLROnPlateau callback\n",
    "reduce_lr = ReduceLROnPlateau(monitor='val_loss', factor=0.2, patience=5, min_lr=1e-6)\n",
    "\n",
    "# Define the ModelCheckpoint callback to save the best weights\n",
    "#checkpoint = ModelCheckpoint('EfficientViT.h5', monitor='val_accuracy', save_best_only=True, mode='max')\n",
    "\n",
    "checkpoint = ModelCheckpoint('EfficientViT_3', monitor='val_accuracy', save_best_only=True, mode='max', save_format='tf')\n"
   ]
  },
  {
   "cell_type": "code",
   "execution_count": 8,
   "metadata": {},
   "outputs": [
    {
     "name": "stdout",
     "output_type": "stream",
     "text": [
      "Epoch 1/6\n",
      "1095/1095 [==============================] - ETA: 0s - loss: 0.6641 - accuracy: 0.6056INFO:tensorflow:Assets written to: EfficientViT_3\\assets\n"
     ]
    },
    {
     "name": "stderr",
     "output_type": "stream",
     "text": [
      "INFO:tensorflow:Assets written to: EfficientViT_3\\assets\n"
     ]
    },
    {
     "name": "stdout",
     "output_type": "stream",
     "text": [
      "1095/1095 [==============================] - 6412s 6s/step - loss: 0.6641 - accuracy: 0.6056 - val_loss: 0.7016 - val_accuracy: 0.6065 - lr: 0.0010\n",
      "Epoch 2/6\n",
      "1095/1095 [==============================] - 6293s 6s/step - loss: 0.6546 - accuracy: 0.5941 - val_loss: 0.6689 - val_accuracy: 0.5634 - lr: 0.0010\n",
      "Epoch 3/6\n",
      "1095/1095 [==============================] - 6274s 6s/step - loss: 0.6497 - accuracy: 0.5985 - val_loss: 0.6961 - val_accuracy: 0.5070 - lr: 0.0010\n",
      "Epoch 4/6\n",
      "1095/1095 [==============================] - 6275s 6s/step - loss: 0.6637 - accuracy: 0.5952 - val_loss: 0.6968 - val_accuracy: 0.5919 - lr: 0.0010\n",
      "Epoch 5/6\n",
      "1095/1095 [==============================] - 6243s 6s/step - loss: 0.6497 - accuracy: 0.6169 - val_loss: 0.6940 - val_accuracy: 0.4929 - lr: 0.0010\n",
      "Epoch 6/6\n",
      "1095/1095 [==============================] - 6264s 6s/step - loss: 0.6679 - accuracy: 0.5594 - val_loss: 0.6844 - val_accuracy: 0.5070 - lr: 0.0010\n"
     ]
    }
   ],
   "source": [
    "# Train the model\n",
    "model_info = model.fit(\n",
    "    train_generator,\n",
    "    steps_per_epoch= train_generator.n // 32,\n",
    "    epochs = 6,\n",
    "    validation_data = validation_generator,\n",
    "    validation_steps= validation_generator.n // 32,\n",
    "    callbacks=[reduce_lr, checkpoint]\n",
    ")"
   ]
  },
  {
   "cell_type": "code",
   "execution_count": 9,
   "metadata": {},
   "outputs": [],
   "source": [
    "#save model structure in json file\n",
    "#model_json = model.to_json()\n",
    "#with open(\"EfficientViT.json\", \"w\") as json_file:\n",
    "#    json_file.write(model_json)"
   ]
  },
  {
   "cell_type": "code",
   "execution_count": 10,
   "metadata": {},
   "outputs": [
    {
     "data": {
      "image/png": "[encoded data removed]",
      "text/plain": [
       "<Figure size 432x288 with 1 Axes>"
      ]
     },
     "metadata": {
      "needs_background": "light"
     },
     "output_type": "display_data"
    },
    {
     "data": {
      "image/png": "[encoded data removed]",
      "text/plain": [
       "<Figure size 432x288 with 1 Axes>"
      ]
     },
     "metadata": {
      "needs_background": "light"
     },
     "output_type": "display_data"
    }
   ],
   "source": [
    "import matplotlib.pyplot as plt\n",
    "\n",
    "# Plot training and validation loss\n",
    "plt.plot(model_info.history['loss'])\n",
    "plt.plot(model_info.history['val_loss'])\n",
    "plt.title('Model loss')\n",
    "plt.ylabel('Loss')\n",
    "plt.xlabel('Epoch')\n",
    "plt.legend(['Train', 'Validation'], loc='upper right')\n",
    "plt.show()\n",
    "\n",
    "# Plot training and validation accuracy\n",
    "plt.plot(model_info.history['accuracy'])\n",
    "plt.plot(model_info.history['val_accuracy'])\n",
    "plt.title('Model accuracy')\n",
    "plt.ylabel('Accuracy')\n",
    "plt.xlabel('Epoch')\n",
    "plt.legend(['Train', 'Validation'], loc='lower right')\n",
    "plt.show()"
   ]
  },
  {
   "cell_type": "code",
   "execution_count": 11,
   "metadata": {},
   "outputs": [],
   "source": [
    "model = tf.keras.models.load_model('EfficientViT_3')"
   ]
  },
  {
   "cell_type": "code",
   "execution_count": 12,
   "metadata": {},
   "outputs": [
    {
     "name": "stdout",
     "output_type": "stream",
     "text": [
      "Found 35064 images belonging to 2 classes.\n",
      "Found 13897 images belonging to 2 classes.\n"
     ]
    }
   ],
   "source": [
    "from tensorflow.keras.preprocessing.image import ImageDataGenerator\n",
    "from tensorflow.keras.applications.efficientnet import preprocess_input\n",
    "\n",
    "# Custom preprocessing function for EfficientNet\n",
    "def efficientnet_preprocessing(x):\n",
    "    # Apply EfficientNet specific preprocessing\n",
    "    x = preprocess_input(x)\n",
    "    return x\n",
    "\n",
    "# Image Data Generator for training data\n",
    "train_data_gen = ImageDataGenerator(\n",
    "    preprocessing_function=efficientnet_preprocessing, # Add custom preprocessing\n",
    "    #rescale=1./255  # Rescaling is still fine here\n",
    ")\n",
    "\n",
    "# Image Data Generator for validation data\n",
    "validation_data_gen = ImageDataGenerator(\n",
    "    preprocessing_function=efficientnet_preprocessing, # Add custom preprocessing\n",
    "    #rescale=1./255  # Rescaling is still fine here\n",
    ")\n",
    "\n",
    "# pre proceess the train images\n",
    "train_generator = train_data_gen.flow_from_directory(\n",
    "    '../biometric_project/data/data_50K_2/train/',\n",
    "    target_size=(224,224),\n",
    "    batch_size=32,\n",
    "    color_mode=\"rgb\",\n",
    "    class_mode=\"categorical\",\n",
    "    shuffle = False\n",
    ")\n",
    "\n",
    "# pre process the test images\n",
    "validation_generator = validation_data_gen.flow_from_directory(\n",
    "    '../biometric_project/data/data_50K_2/val/',\n",
    "    target_size=(224,224),\n",
    "    batch_size=32,\n",
    "    color_mode=\"rgb\",\n",
    "    class_mode=\"categorical\",\n",
    "    shuffle = False\n",
    ")"
   ]
  },
  {
   "cell_type": "code",
   "execution_count": 13,
   "metadata": {},
   "outputs": [
    {
     "name": "stderr",
     "output_type": "stream",
     "text": [
      "<ipython-input-13-98cda6eb209b>:7: UserWarning: `Model.predict_generator` is deprecated and will be removed in a future version. Please use `Model.predict`, which supports generators.\n",
      "  predictions = model.predict_generator(validation_generator)\n"
     ]
    },
    {
     "data": {
      "image/png": "[encoded data removed]",
      "text/plain": [
       "<Figure size 576x432 with 2 Axes>"
      ]
     },
     "metadata": {
      "needs_background": "light"
     },
     "output_type": "display_data"
    }
   ],
   "source": [
    "import numpy as np\n",
    "from sklearn.metrics import confusion_matrix\n",
    "import matplotlib.pyplot as plt\n",
    "import seaborn as sns\n",
    "\n",
    "\n",
    "predictions = model.predict_generator(validation_generator)\n",
    "predicted_classes = np.argmax(predictions, axis=1)\n",
    "true_classes = validation_generator.classes\n",
    "class_labels = list(validation_generator.class_indices.keys())\n",
    "\n",
    "confusion_mtx = confusion_matrix(true_classes, predicted_classes)\n",
    "\n",
    "plt.figure(figsize=(8, 6))\n",
    "sns.heatmap(confusion_mtx, annot=True, fmt='d', cmap='Blues', xticklabels=class_labels, yticklabels=class_labels)\n",
    "plt.xlabel('Predicted')\n",
    "plt.ylabel('True')\n",
    "plt.title('Confusion Matrix')\n",
    "plt.show()"
   ]
  },
  {
   "cell_type": "code",
   "execution_count": null,
   "metadata": {},
   "outputs": [],
   "source": []
  },
  {
   "cell_type": "code",
   "execution_count": 14,
   "metadata": {},
   "outputs": [
    {
     "name": "stdout",
     "output_type": "stream",
     "text": [
      "Accuracy: 0.6064618262934446\n"
     ]
    }
   ],
   "source": [
    "from sklearn.metrics import accuracy_score\n",
    "\n",
    "accuracy = accuracy_score(true_classes, predicted_classes)\n",
    "print(\"Accuracy:\", accuracy)"
   ]
  },
  {
   "cell_type": "code",
   "execution_count": 15,
   "metadata": {},
   "outputs": [
    {
     "name": "stderr",
     "output_type": "stream",
     "text": [
      "<ipython-input-15-ad5b78e601eb>:7: UserWarning: `Model.predict_generator` is deprecated and will be removed in a future version. Please use `Model.predict`, which supports generators.\n",
      "  predictions = model.predict_generator(train_generator)\n"
     ]
    },
    {
     "data": {
      "image/png": "[encoded data removed]",
      "text/plain": [
       "<Figure size 576x432 with 2 Axes>"
      ]
     },
     "metadata": {
      "needs_background": "light"
     },
     "output_type": "display_data"
    }
   ],
   "source": [
    "import numpy as np\n",
    "from sklearn.metrics import confusion_matrix\n",
    "import matplotlib.pyplot as plt\n",
    "import seaborn as sns\n",
    "\n",
    "\n",
    "predictions = model.predict_generator(train_generator)\n",
    "predicted_classes = np.argmax(predictions, axis=1)\n",
    "true_classes = train_generator.classes\n",
    "class_labels = list(train_generator.class_indices.keys())\n",
    "\n",
    "confusion_mtx = confusion_matrix(true_classes, predicted_classes)\n",
    "\n",
    "plt.figure(figsize=(8, 6))\n",
    "sns.heatmap(confusion_mtx, annot=True, fmt='d', cmap='Blues', xticklabels=class_labels, yticklabels=class_labels)\n",
    "plt.xlabel('Predicted')\n",
    "plt.ylabel('True')\n",
    "plt.title('Confusion Matrix')\n",
    "plt.show()"
   ]
  },
  {
   "cell_type": "code",
   "execution_count": 16,
   "metadata": {},
   "outputs": [
    {
     "name": "stdout",
     "output_type": "stream",
     "text": [
      "Accuracy: 0.5742927218799909\n"
     ]
    }
   ],
   "source": [
    "from sklearn.metrics import accuracy_score\n",
    "\n",
    "accuracy = accuracy_score(true_classes, predicted_classes)\n",
    "print(\"Accuracy:\", accuracy)"
   ]
  },
  {
   "cell_type": "code",
   "execution_count": 17,
   "metadata": {},
   "outputs": [
    {
     "name": "stdout",
     "output_type": "stream",
     "text": [
      "435/435 [==============================] - 498s 1s/step - loss: 0.7016 - accuracy: 0.6065\n",
      "Validation Loss: 0.7015998363494873\n",
      "Validation Accuracy: 0.6064618229866028\n"
     ]
    }
   ],
   "source": [
    "validation_loss, validation_accuracy = model.evaluate(validation_generator)\n",
    "print(\"Validation Loss:\", validation_loss)\n",
    "print(\"Validation Accuracy:\", validation_accuracy)"
   ]
  },
  {
   "cell_type": "code",
   "execution_count": 18,
   "metadata": {},
   "outputs": [
    {
     "name": "stderr",
     "output_type": "stream",
     "text": [
      "<ipython-input-18-7e620d585617>:6: UserWarning: `Model.predict_generator` is deprecated and will be removed in a future version. Please use `Model.predict`, which supports generators.\n",
      "  Y_pred = model.predict_generator(validation_generator, num_of_test_samples // batch_size+1)\n"
     ]
    },
    {
     "name": "stdout",
     "output_type": "stream",
     "text": [
      "Classification Report\n",
      "              precision    recall  f1-score   support\n",
      "\n",
      "        FAKE       0.86      0.24      0.38      6852\n",
      "        REAL       0.57      0.96      0.71      7045\n",
      "\n",
      "    accuracy                           0.61     13897\n",
      "   macro avg       0.71      0.60      0.54     13897\n",
      "weighted avg       0.71      0.61      0.55     13897\n",
      "\n"
     ]
    }
   ],
   "source": [
    "from sklearn.metrics import classification_report, confusion_matrix\n",
    "num_of_test_samples = validation_generator.n \n",
    "batch_size = 32\n",
    "\n",
    "#Confution Matrix and Classification Report\n",
    "Y_pred = model.predict_generator(validation_generator, num_of_test_samples // batch_size+1)\n",
    "y_pred = np.argmax(Y_pred, axis=1)\n",
    "#print('Confusion Matrix')\n",
    "#print(confusion_matrix(validation_generator.classes, y_pred))\n",
    "print('Classification Report')\n",
    "target_names = ['FAKE','REAL']\n",
    "print(classification_report(validation_generator.classes, y_pred, target_names=target_names))"
   ]
  },
  {
   "cell_type": "code",
   "execution_count": 19,
   "metadata": {},
   "outputs": [
    {
     "name": "stderr",
     "output_type": "stream",
     "text": [
      "<ipython-input-19-32d1fd546e9f>:6: UserWarning: `Model.predict_generator` is deprecated and will be removed in a future version. Please use `Model.predict`, which supports generators.\n",
      "  Y_pred = model.predict_generator(train_generator, num_of_train_samples // batch_size+1)\n"
     ]
    }
   ],
   "source": [
    "from sklearn.metrics import classification_report, confusion_matrix\n",
    "num_of_train_samples = train_generator.n\n",
    "batch_size = 32\n",
    "\n",
    "#Confution Matrix and Classification Report\n",
    "Y_pred = model.predict_generator(train_generator, num_of_train_samples // batch_size+1)\n",
    "y_pred = np.argmax(Y_pred, axis=1)\n",
    "print('Confusion Matrix')\n",
    "print(confusion_matrix(train_generator.classes, y_pred))\n",
    "print('Classification Report')\n",
    "target_names = ['FAKE','REAL']\n",
    "print(classification_report(train_generator.classes, y_pred, target_names=target_names))\n"
   ]
  }
 ],
 "metadata": {
  "kernelspec": {
   "display_name": "Python 3",
   "language": "python",
   "name": "python3"
  },
  "language_info": {
   "codemirror_mode": {
    "name": "ipython",
    "version": 3
   },
   "file_extension": ".py",
   "mimetype": "text/x-python",
   "name": "python",
   "nbconvert_exporter": "python",
   "pygments_lexer": "ipython3",
   "version": "3.9.4"
  },
  "orig_nbformat": 4
 },
 "nbformat": 4,
 "nbformat_minor": 2
}
