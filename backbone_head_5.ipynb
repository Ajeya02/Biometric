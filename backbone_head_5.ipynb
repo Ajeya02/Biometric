{
 "cells": [
  {
   "cell_type": "code",
   "execution_count": 1,
   "metadata": {},
   "outputs": [],
   "source": [
    "import numpy as np\n",
    "\n",
    "import tensorflow as tf\n",
    "\n",
    "\n",
    "from keras.models import Sequential\n",
    "from keras.layers import Conv2D,MaxPooling2D, Dense, Flatten, Dropout\n",
    "from keras.optimizers import Adam\n",
    "from keras.preprocessing.image import ImageDataGenerator\n"
   ]
  },
  {
   "cell_type": "code",
   "execution_count": 2,
   "metadata": {},
   "outputs": [
    {
     "name": "stdout",
     "output_type": "stream",
     "text": [
      "2.14.0\n"
     ]
    }
   ],
   "source": [
    "import tensorflow as tf\n",
    "\n",
    "print(tf.__version__)"
   ]
  },
  {
   "cell_type": "code",
   "execution_count": 3,
   "metadata": {},
   "outputs": [
    {
     "name": "stdout",
     "output_type": "stream",
     "text": [
      "Found 35064 images belonging to 2 classes.\n",
      "Found 13897 images belonging to 2 classes.\n"
     ]
    }
   ],
   "source": [
    "from tensorflow.keras.preprocessing.image import ImageDataGenerator\n",
    "from tensorflow.keras.applications.efficientnet import preprocess_input\n",
    "\n",
    "# Custom preprocessing function for EfficientNet\n",
    "def efficientnet_preprocessing(x):\n",
    "    # Apply EfficientNet specific preprocessing, dose nothing is a placeholder\n",
    "    x = preprocess_input(x)\n",
    "    return x\n",
    "\n",
    "# Image Data Generator for training data\n",
    "train_data_gen = ImageDataGenerator(\n",
    "    preprocessing_function=efficientnet_preprocessing, # Add custom preprocessing\n",
    "    #rescale=1./255  # Rescaling is still fine here\n",
    ")\n",
    "\n",
    "# Image Data Generator for validation data\n",
    "validation_data_gen = ImageDataGenerator(\n",
    "    preprocessing_function=efficientnet_preprocessing, # Add custom preprocessing\n",
    "    #rescale=1./255  # Rescaling is still fine here\n",
    ")\n",
    "\n",
    "#FAKE -> 0\n",
    "#REAL -> 1\n",
    "\n",
    "# Train generator\n",
    "train_generator = train_data_gen.flow_from_directory(\n",
    "    '../biometric_project/data/data_50K_2/train/',\n",
    "    target_size=(224, 224),\n",
    "    batch_size=32,\n",
    "    color_mode=\"rgb\",\n",
    "    class_mode=\"binary\"\n",
    ")\n",
    "\n",
    "# Validation generator\n",
    "validation_generator = validation_data_gen.flow_from_directory(\n",
    "    '../biometric_project/data/data_50K_2/val/',\n",
    "    target_size=(224, 224),\n",
    "    batch_size=32,\n",
    "    color_mode=\"rgb\",\n",
    "    class_mode=\"binary\"\n",
    ")\n"
   ]
  },
  {
   "cell_type": "code",
   "execution_count": 4,
   "metadata": {},
   "outputs": [
    {
     "name": "stdout",
     "output_type": "stream",
     "text": [
      "Model: \"sequential\"\n",
      "_________________________________________________________________\n",
      " Layer (type)                Output Shape              Param #   \n",
      "=================================================================\n",
      " efficientnetb0 (Functional  (None, 1280)              4049571   \n",
      " )                                                               \n",
      "                                                                 \n",
      " dense (Dense)               (None, 1)                 1281      \n",
      "                                                                 \n",
      "=================================================================\n",
      "Total params: 4050852 (15.45 MB)\n",
      "Trainable params: 4008829 (15.29 MB)\n",
      "Non-trainable params: 42023 (164.16 KB)\n",
      "_________________________________________________________________\n"
     ]
    }
   ],
   "source": [
    "import tensorflow as tf\n",
    "from tensorflow.keras import layers, models\n",
    "\n",
    "# Configuration for the model\n",
    "num_classes = 1  # Assuming binary classification\n",
    "input_shape = (224, 224, 3)  # Standard input size for EfficientNetB0\n",
    "\n",
    "# Define the model\n",
    "model = models.Sequential()\n",
    "\n",
    "# Add the EfficientNet backbone\n",
    "model.add(tf.keras.applications.EfficientNetB0(\n",
    "    include_top=False,  # Do not include the built-in classification head\n",
    "    input_shape=input_shape,\n",
    "    pooling='avg',  # Add global average pooling to flatten the output\n",
    "    weights='imagenet'  # Pre-trained weights on ImageNet\n",
    "))\n",
    "\n",
    "# Add the classification head\n",
    "model.add(layers.Dense(num_classes, activation='sigmoid'))  \n",
    "\n",
    "# Compile the model\n",
    "model.compile(optimizer='adam', loss='binary_crossentropy', metrics=['accuracy'])\n",
    "\n",
    "# Model summary\n",
    "model.summary()\n"
   ]
  },
  {
   "cell_type": "code",
   "execution_count": 5,
   "metadata": {},
   "outputs": [
    {
     "name": "stdout",
     "output_type": "stream",
     "text": [
      "Model: \"sequential\"\n",
      "_________________________________________________________________\n",
      " Layer (type)                Output Shape              Param #   \n",
      "=================================================================\n",
      " efficientnetb0 (Functional  (None, 1280)              4049571   \n",
      " )                                                               \n",
      "                                                                 \n",
      " dense (Dense)               (None, 1)                 1281      \n",
      "                                                                 \n",
      "=================================================================\n",
      "Total params: 4050852 (15.45 MB)\n",
      "Trainable params: 4008829 (15.29 MB)\n",
      "Non-trainable params: 42023 (164.16 KB)\n",
      "_________________________________________________________________\n"
     ]
    }
   ],
   "source": [
    "dummy_input = tf.random.uniform((1, 224, 224, 3))  # adjust the shape as necessary\n",
    "model(dummy_input)\n",
    "model.summary()"
   ]
  },
  {
   "cell_type": "code",
   "execution_count": 6,
   "metadata": {},
   "outputs": [],
   "source": [
    "from tensorflow.keras.callbacks import ReduceLROnPlateau, ModelCheckpoint\n",
    "\n",
    "# Define the ReduceLROnPlateau callback\n",
    "reduce_lr = ReduceLROnPlateau(monitor='val_loss', factor=0.2, patience=5, min_lr=1e-6)\n",
    "\n",
    "# Define the ModelCheckpoint callback to save the best weights\n",
    "#checkpoint = ModelCheckpoint('EfficientViT.h5', monitor='val_accuracy', save_best_only=True, mode='max')\n",
    "\n",
    "checkpoint = ModelCheckpoint('backbone_head_5', monitor='val_accuracy', save_best_only=True, mode='max', save_format='tf')\n"
   ]
  },
  {
   "cell_type": "code",
   "execution_count": 7,
   "metadata": {},
   "outputs": [
    {
     "name": "stdout",
     "output_type": "stream",
     "text": [
      "Epoch 1/6\n",
      "1095/1095 [==============================] - ETA: 0s - loss: 0.1031 - accuracy: 0.9588INFO:tensorflow:Assets written to: backbone_head_5\\assets\n"
     ]
    },
    {
     "name": "stderr",
     "output_type": "stream",
     "text": [
      "INFO:tensorflow:Assets written to: backbone_head_5\\assets\n"
     ]
    },
    {
     "name": "stdout",
     "output_type": "stream",
     "text": [
      "1095/1095 [==============================] - 6157s 6s/step - loss: 0.1031 - accuracy: 0.9588 - val_loss: 0.6502 - val_accuracy: 0.8476 - lr: 0.0010\n",
      "Epoch 2/6\n",
      "1095/1095 [==============================] - 6176s 6s/step - loss: 0.0470 - accuracy: 0.9814 - val_loss: 0.7223 - val_accuracy: 0.8178 - lr: 0.0010\n",
      "Epoch 3/6\n",
      "1095/1095 [==============================] - 6258s 6s/step - loss: 0.0327 - accuracy: 0.9883 - val_loss: 0.7421 - val_accuracy: 0.8303 - lr: 0.0010\n",
      "Epoch 4/6\n",
      "1095/1095 [==============================] - 6203s 6s/step - loss: 0.0178 - accuracy: 0.9940 - val_loss: 0.4518 - val_accuracy: 0.8420 - lr: 0.0010\n",
      "Epoch 5/6\n",
      "1095/1095 [==============================] - ETA: 0s - loss: 0.0169 - accuracy: 0.9947INFO:tensorflow:Assets written to: backbone_head_5\\assets\n"
     ]
    },
    {
     "name": "stderr",
     "output_type": "stream",
     "text": [
      "INFO:tensorflow:Assets written to: backbone_head_5\\assets\n"
     ]
    },
    {
     "name": "stdout",
     "output_type": "stream",
     "text": [
      "1095/1095 [==============================] - 6325s 6s/step - loss: 0.0169 - accuracy: 0.9947 - val_loss: 0.5235 - val_accuracy: 0.8491 - lr: 0.0010\n",
      "Epoch 6/6\n",
      "1095/1095 [==============================] - ETA: 0s - loss: 0.0134 - accuracy: 0.9957INFO:tensorflow:Assets written to: backbone_head_5\\assets\n"
     ]
    },
    {
     "name": "stderr",
     "output_type": "stream",
     "text": [
      "INFO:tensorflow:Assets written to: backbone_head_5\\assets\n"
     ]
    },
    {
     "name": "stdout",
     "output_type": "stream",
     "text": [
      "1095/1095 [==============================] - 6260s 6s/step - loss: 0.0134 - accuracy: 0.9957 - val_loss: 0.5506 - val_accuracy: 0.8617 - lr: 0.0010\n"
     ]
    }
   ],
   "source": [
    "# Train the model\n",
    "model_info = model.fit(\n",
    "    train_generator,\n",
    "    steps_per_epoch= train_generator.n // 32,\n",
    "    epochs = 6,\n",
    "    validation_data = validation_generator,\n",
    "    validation_steps= validation_generator.n // 32,\n",
    "    callbacks=[reduce_lr, checkpoint]\n",
    ")"
   ]
  },
  {
   "cell_type": "code",
   "execution_count": 8,
   "metadata": {},
   "outputs": [],
   "source": [
    "#save model structure in json file\n",
    "#model_json = model.to_json()\n",
    "#with open(\"EfficientViT.json\", \"w\") as json_file:\n",
    "#    json_file.write(model_json)"
   ]
  },
  {
   "cell_type": "code",
   "execution_count": 9,
   "metadata": {},
   "outputs": [
    {
     "data": {
      "image/png": "[encoded data removed]",
      "text/plain": [
       "<Figure size 432x288 with 1 Axes>"
      ]
     },
     "metadata": {
      "needs_background": "light"
     },
     "output_type": "display_data"
    },
    {
     "data": {
      "image/png": "[encoded data removed]",
      "text/plain": [
       "<Figure size 432x288 with 1 Axes>"
      ]
     },
     "metadata": {
      "needs_background": "light"
     },
     "output_type": "display_data"
    }
   ],
   "source": [
    "import matplotlib.pyplot as plt\n",
    "\n",
    "# Plot training and validation loss\n",
    "plt.plot(model_info.history['loss'])\n",
    "plt.plot(model_info.history['val_loss'])\n",
    "plt.title('Model loss')\n",
    "plt.ylabel('Loss')\n",
    "plt.xlabel('Epoch')\n",
    "plt.legend(['Train', 'Validation'], loc='upper right')\n",
    "plt.show()\n",
    "\n",
    "# Plot training and validation accuracy\n",
    "plt.plot(model_info.history['accuracy'])\n",
    "plt.plot(model_info.history['val_accuracy'])\n",
    "plt.title('Model accuracy')\n",
    "plt.ylabel('Accuracy')\n",
    "plt.xlabel('Epoch')\n",
    "plt.legend(['Train', 'Validation'], loc='lower right')\n",
    "plt.show()"
   ]
  },
  {
   "cell_type": "code",
   "execution_count": 10,
   "metadata": {},
   "outputs": [],
   "source": [
    "model = tf.keras.models.load_model('backbone_head_5')"
   ]
  },
  {
   "cell_type": "code",
   "execution_count": 11,
   "metadata": {},
   "outputs": [
    {
     "name": "stdout",
     "output_type": "stream",
     "text": [
      "Found 35064 images belonging to 2 classes.\n",
      "Found 13897 images belonging to 2 classes.\n"
     ]
    }
   ],
   "source": [
    "from tensorflow.keras.preprocessing.image import ImageDataGenerator\n",
    "from tensorflow.keras.applications.efficientnet import preprocess_input\n",
    "\n",
    "# Custom preprocessing function for EfficientNet\n",
    "def efficientnet_preprocessing(x):\n",
    "    # Apply EfficientNet specific preprocessing\n",
    "    x = preprocess_input(x)\n",
    "    return x\n",
    "\n",
    "# Image Data Generator for training data\n",
    "train_data_gen = ImageDataGenerator(\n",
    "    preprocessing_function=efficientnet_preprocessing, # Add custom preprocessing\n",
    "    #rescale=1./255  # Rescaling is still fine here\n",
    ")\n",
    "\n",
    "# Image Data Generator for validation data\n",
    "validation_data_gen = ImageDataGenerator(\n",
    "    preprocessing_function=efficientnet_preprocessing, # Add custom preprocessing\n",
    "    #rescale=1./255  # Rescaling is still fine here\n",
    ")\n",
    "\n",
    "# Train generator\n",
    "train_generator = train_data_gen.flow_from_directory(\n",
    "    '../biometric_project/data/data_50K_2/train/',\n",
    "    target_size=(224, 224),\n",
    "    batch_size=32,\n",
    "    color_mode=\"rgb\",\n",
    "    class_mode=\"binary\",\n",
    "    shuffle = False\n",
    ")\n",
    "\n",
    "# Validation generator\n",
    "validation_generator = validation_data_gen.flow_from_directory(\n",
    "    '../biometric_project/data/data_50K_2/val/',\n",
    "    target_size=(224, 224),\n",
    "    batch_size=32,\n",
    "    color_mode=\"rgb\",\n",
    "    class_mode=\"binary\",\n",
    "    shuffle = False\n",
    ")\n"
   ]
  },
  {
   "cell_type": "code",
   "execution_count": 12,
   "metadata": {},
   "outputs": [
    {
     "name": "stderr",
     "output_type": "stream",
     "text": [
      "<ipython-input-12-98cda6eb209b>:7: UserWarning: `Model.predict_generator` is deprecated and will be removed in a future version. Please use `Model.predict`, which supports generators.\n",
      "  predictions = model.predict_generator(validation_generator)\n"
     ]
    },
    {
     "data": {
      "image/png": "[encoded data removed]",
      "text/plain": [
       "<Figure size 576x432 with 2 Axes>"
      ]
     },
     "metadata": {
      "needs_background": "light"
     },
     "output_type": "display_data"
    }
   ],
   "source": [
    "import numpy as np\n",
    "from sklearn.metrics import confusion_matrix\n",
    "import matplotlib.pyplot as plt\n",
    "import seaborn as sns\n",
    "\n",
    "\n",
    "predictions = model.predict_generator(validation_generator)\n",
    "predicted_classes = np.argmax(predictions, axis=1)\n",
    "true_classes = validation_generator.classes\n",
    "class_labels = list(validation_generator.class_indices.keys())\n",
    "\n",
    "confusion_mtx = confusion_matrix(true_classes, predicted_classes)\n",
    "\n",
    "plt.figure(figsize=(8, 6))\n",
    "sns.heatmap(confusion_mtx, annot=True, fmt='d', cmap='Blues', xticklabels=class_labels, yticklabels=class_labels)\n",
    "plt.xlabel('Predicted')\n",
    "plt.ylabel('True')\n",
    "plt.title('Confusion Matrix')\n",
    "plt.show()"
   ]
  },
  {
   "cell_type": "code",
   "execution_count": 13,
   "metadata": {},
   "outputs": [
    {
     "name": "stdout",
     "output_type": "stream",
     "text": [
      "Accuracy: 0.493056055263726\n"
     ]
    }
   ],
   "source": [
    "from sklearn.metrics import accuracy_score\n",
    "\n",
    "accuracy = accuracy_score(true_classes, predicted_classes)\n",
    "print(\"Accuracy:\", accuracy)"
   ]
  },
  {
   "cell_type": "code",
   "execution_count": 14,
   "metadata": {},
   "outputs": [
    {
     "name": "stderr",
     "output_type": "stream",
     "text": [
      "<ipython-input-14-ad5b78e601eb>:7: UserWarning: `Model.predict_generator` is deprecated and will be removed in a future version. Please use `Model.predict`, which supports generators.\n",
      "  predictions = model.predict_generator(train_generator)\n"
     ]
    },
    {
     "data": {
      "image/png": "[encoded data removed]",
      "text/plain": [
       "<Figure size 576x432 with 2 Axes>"
      ]
     },
     "metadata": {
      "needs_background": "light"
     },
     "output_type": "display_data"
    }
   ],
   "source": [
    "import numpy as np\n",
    "from sklearn.metrics import confusion_matrix\n",
    "import matplotlib.pyplot as plt\n",
    "import seaborn as sns\n",
    "\n",
    "\n",
    "predictions = model.predict_generator(train_generator)\n",
    "predicted_classes = np.argmax(predictions, axis=1)\n",
    "true_classes = train_generator.classes\n",
    "class_labels = list(train_generator.class_indices.keys())\n",
    "\n",
    "confusion_mtx = confusion_matrix(true_classes, predicted_classes)\n",
    "\n",
    "plt.figure(figsize=(8, 6))\n",
    "sns.heatmap(confusion_mtx, annot=True, fmt='d', cmap='Blues', xticklabels=class_labels, yticklabels=class_labels)\n",
    "plt.xlabel('Predicted')\n",
    "plt.ylabel('True')\n",
    "plt.title('Confusion Matrix')\n",
    "plt.show()"
   ]
  },
  {
   "cell_type": "code",
   "execution_count": 15,
   "metadata": {},
   "outputs": [
    {
     "name": "stdout",
     "output_type": "stream",
     "text": [
      "Accuracy: 0.4448437143509012\n"
     ]
    }
   ],
   "source": [
    "from sklearn.metrics import accuracy_score\n",
    "\n",
    "accuracy = accuracy_score(true_classes, predicted_classes)\n",
    "print(\"Accuracy:\", accuracy)"
   ]
  },
  {
   "cell_type": "code",
   "execution_count": 16,
   "metadata": {},
   "outputs": [
    {
     "name": "stdout",
     "output_type": "stream",
     "text": [
      "435/435 [==============================] - 459s 1s/step - loss: 0.5508 - accuracy: 0.8616\n",
      "Validation Loss: 0.5508272051811218\n",
      "Validation Accuracy: 0.8616248369216919\n"
     ]
    }
   ],
   "source": [
    "validation_loss, validation_accuracy = model.evaluate(validation_generator)\n",
    "print(\"Validation Loss:\", validation_loss)\n",
    "print(\"Validation Accuracy:\", validation_accuracy)"
   ]
  },
  {
   "cell_type": "code",
   "execution_count": 17,
   "metadata": {},
   "outputs": [
    {
     "name": "stderr",
     "output_type": "stream",
     "text": [
      "<ipython-input-17-4b0e8a04a1e5>:6: UserWarning: `Model.predict_generator` is deprecated and will be removed in a future version. Please use `Model.predict`, which supports generators.\n",
      "  Y_pred = model.predict_generator(validation_generator, num_of_test_samples // batch_size+1)\n"
     ]
    },
    {
     "name": "stdout",
     "output_type": "stream",
     "text": [
      "Confusion Matrix\n",
      "[[6852    0]\n",
      " [7045    0]]\n",
      "Classification Report\n",
      "              precision    recall  f1-score   support\n",
      "\n",
      "        FAKE       0.49      1.00      0.66      6852\n",
      "        REAL       0.00      0.00      0.00      7045\n",
      "\n",
      "    accuracy                           0.49     13897\n",
      "   macro avg       0.25      0.50      0.33     13897\n",
      "weighted avg       0.24      0.49      0.33     13897\n",
      "\n"
     ]
    },
    {
     "name": "stderr",
     "output_type": "stream",
     "text": [
      "d:\\SHREY\\Others\\python3_9_4\\lib\\site-packages\\sklearn\\metrics\\_classification.py:1471: UndefinedMetricWarning: Precision and F-score are ill-defined and being set to 0.0 in labels with no predicted samples. Use `zero_division` parameter to control this behavior.\n",
      "  _warn_prf(average, modifier, msg_start, len(result))\n",
      "d:\\SHREY\\Others\\python3_9_4\\lib\\site-packages\\sklearn\\metrics\\_classification.py:1471: UndefinedMetricWarning: Precision and F-score are ill-defined and being set to 0.0 in labels with no predicted samples. Use `zero_division` parameter to control this behavior.\n",
      "  _warn_prf(average, modifier, msg_start, len(result))\n",
      "d:\\SHREY\\Others\\python3_9_4\\lib\\site-packages\\sklearn\\metrics\\_classification.py:1471: UndefinedMetricWarning: Precision and F-score are ill-defined and being set to 0.0 in labels with no predicted samples. Use `zero_division` parameter to control this behavior.\n",
      "  _warn_prf(average, modifier, msg_start, len(result))\n"
     ]
    }
   ],
   "source": [
    "from sklearn.metrics import classification_report, confusion_matrix\n",
    "num_of_test_samples = validation_generator.n \n",
    "batch_size = 32\n",
    "\n",
    "#Confution Matrix and Classification Report\n",
    "Y_pred = model.predict_generator(validation_generator, num_of_test_samples // batch_size+1)\n",
    "y_pred = np.argmax(Y_pred, axis=1)\n",
    "print('Confusion Matrix')\n",
    "print(confusion_matrix(validation_generator.classes, y_pred))\n",
    "print('Classification Report')\n",
    "target_names = ['FAKE','REAL']\n",
    "print(classification_report(validation_generator.classes, y_pred, target_names=target_names))"
   ]
  },
  {
   "cell_type": "code",
   "execution_count": 18,
   "metadata": {},
   "outputs": [
    {
     "name": "stderr",
     "output_type": "stream",
     "text": [
      "<ipython-input-18-32d1fd546e9f>:6: UserWarning: `Model.predict_generator` is deprecated and will be removed in a future version. Please use `Model.predict`, which supports generators.\n",
      "  Y_pred = model.predict_generator(train_generator, num_of_train_samples // batch_size+1)\n"
     ]
    },
    {
     "name": "stdout",
     "output_type": "stream",
     "text": [
      "Confusion Matrix\n",
      "[[15598     0]\n",
      " [19466     0]]\n",
      "Classification Report\n",
      "              precision    recall  f1-score   support\n",
      "\n",
      "        FAKE       0.44      1.00      0.62     15598\n",
      "        REAL       0.00      0.00      0.00     19466\n",
      "\n",
      "    accuracy                           0.44     35064\n",
      "   macro avg       0.22      0.50      0.31     35064\n",
      "weighted avg       0.20      0.44      0.27     35064\n",
      "\n"
     ]
    },
    {
     "name": "stderr",
     "output_type": "stream",
     "text": [
      "d:\\SHREY\\Others\\python3_9_4\\lib\\site-packages\\sklearn\\metrics\\_classification.py:1471: UndefinedMetricWarning: Precision and F-score are ill-defined and being set to 0.0 in labels with no predicted samples. Use `zero_division` parameter to control this behavior.\n",
      "  _warn_prf(average, modifier, msg_start, len(result))\n",
      "d:\\SHREY\\Others\\python3_9_4\\lib\\site-packages\\sklearn\\metrics\\_classification.py:1471: UndefinedMetricWarning: Precision and F-score are ill-defined and being set to 0.0 in labels with no predicted samples. Use `zero_division` parameter to control this behavior.\n",
      "  _warn_prf(average, modifier, msg_start, len(result))\n",
      "d:\\SHREY\\Others\\python3_9_4\\lib\\site-packages\\sklearn\\metrics\\_classification.py:1471: UndefinedMetricWarning: Precision and F-score are ill-defined and being set to 0.0 in labels with no predicted samples. Use `zero_division` parameter to control this behavior.\n",
      "  _warn_prf(average, modifier, msg_start, len(result))\n"
     ]
    }
   ],
   "source": [
    "from sklearn.metrics import classification_report, confusion_matrix\n",
    "num_of_train_samples = train_generator.n\n",
    "batch_size = 32\n",
    "\n",
    "#Confution Matrix and Classification Report\n",
    "Y_pred = model.predict_generator(train_generator, num_of_train_samples // batch_size+1)\n",
    "y_pred = np.argmax(Y_pred, axis=1)\n",
    "print('Confusion Matrix')\n",
    "print(confusion_matrix(train_generator.classes, y_pred))\n",
    "print('Classification Report')\n",
    "target_names = ['FAKE','REAL']\n",
    "print(classification_report(train_generator.classes, y_pred, target_names=target_names))\n"
   ]
  }
 ],
 "metadata": {
  "kernelspec": {
   "display_name": "Python 3",
   "language": "python",
   "name": "python3"
  },
  "language_info": {
   "codemirror_mode": {
    "name": "ipython",
    "version": 3
   },
   "file_extension": ".py",
   "mimetype": "text/x-python",
   "name": "python",
   "nbconvert_exporter": "python",
   "pygments_lexer": "ipython3",
   "version": "3.9.4"
  },
  "orig_nbformat": 4
 },
 "nbformat": 4,
 "nbformat_minor": 2
}
