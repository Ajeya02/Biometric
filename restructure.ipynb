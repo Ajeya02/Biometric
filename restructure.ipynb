{
 "cells": [
  {
   "cell_type": "code",
   "execution_count": 4,
   "metadata": {},
   "outputs": [
    {
     "name": "stdout",
     "output_type": "stream",
     "text": [
      "Folder restructuring complete.\n"
     ]
    }
   ],
   "source": [
    "import os\n",
    "import shutil\n",
    "\n",
    "# Define your base directories\n",
    "base_dir = '../biometric_project/data/data_50K_2/val/'  # Replace with the path to your project folder\n",
    "classes = ['REAL', 'FAKE']\n",
    "\n",
    "for class_name in classes:\n",
    "    class_dir = os.path.join(base_dir, class_name)\n",
    "    for video_name in os.listdir(class_dir):\n",
    "        video_dir = os.path.join(class_dir, video_name)\n",
    "        \n",
    "        # Skip if not a directory\n",
    "        if not os.path.isdir(video_dir):\n",
    "            continue\n",
    "\n",
    "        for image_name in os.listdir(video_dir):\n",
    "            # Construct the full file paths\n",
    "            new_image_name = f\"{video_name}_{image_name}\"\n",
    "            source = os.path.join(video_dir, image_name)\n",
    "            destination = os.path.join(class_dir, new_image_name)\n",
    "            \n",
    "            # Move the file\n",
    "            shutil.move(source, destination)\n",
    "        \n",
    "        # Remove the now-empty video directory\n",
    "        os.rmdir(video_dir)\n",
    "\n",
    "print(\"Folder restructuring complete.\")\n"
   ]
  }
 ],
 "metadata": {
  "kernelspec": {
   "display_name": "Python 3",
   "language": "python",
   "name": "python3"
  },
  "language_info": {
   "codemirror_mode": {
    "name": "ipython",
    "version": 3
   },
   "file_extension": ".py",
   "mimetype": "text/x-python",
   "name": "python",
   "nbconvert_exporter": "python",
   "pygments_lexer": "ipython3",
   "version": "3.9.4"
  }
 },
 "nbformat": 4,
 "nbformat_minor": 2
}
